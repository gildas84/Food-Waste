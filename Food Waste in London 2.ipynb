{
 "cells": [
  {
   "cell_type": "markdown",
   "id": "90275627",
   "metadata": {},
   "source": [
    "TO DO:\n",
    "\n",
    "1/ Graphs\n",
    "    - rework graph1\n",
    "    - rework graph2\n",
    "    - rework graph3\n",
    "        - find volumes of food waste and others collected / per inhabitants \n",
    "        - graph volumes of food waste and others collected / per inhabitants \n",
    "    - rework graph4 map_london1\n",
    "        - add title\n",
    "        - ensure legens is appropriate\n",
    "        - add source\n",
    "        - choose better color\n",
    "    - rework graph4 map_london2\n",
    "        - add title\n",
    "        - ensure legens is appropriate\n",
    "        - add source\n",
    "        - choose better color\n",
    "    - Find how to embed plotly graph in HTML\n",
    "\n",
    "2/ review content\n",
    "    - read blog and annotate what's wrong\n",
    "    \n",
    "3/ communicate\n",
    "    - share email with blog outline + graphs"
   ]
  },
  {
   "cell_type": "markdown",
   "id": "3d3d41f7",
   "metadata": {},
   "source": [
    "\n",
    "\n",
    "<div class=\"alert alert-block alert-info\"><b>Greenpeace blog:</b> Food waste treatment in London \n",
    "\n",
    "By Gildas Ehrmann https://github.com/gildas84\n",
    "</div>\n"
   ]
  },
  {
   "cell_type": "code",
   "execution_count": null,
   "id": "b1adfc67",
   "metadata": {},
   "outputs": [],
   "source": [
    "import plotly.graph_objects as px\n",
    "import numpy as np\n",
    "import pandas as pd\n",
    "import plotly.graph_objects as go\n"
   ]
  },
  {
   "cell_type": "code",
   "execution_count": null,
   "id": "ba092992",
   "metadata": {},
   "outputs": [],
   "source": [
    "## 1. Introduction: Motivation and scope of this work\n",
    "\n",
    "Food waste may sound trivial, but it’s a cornerstone in tackling the global environment challenge we’re facing. The abundant and diverse food paradigm is driving deforestation, land-use change, soil alteration, biodiversity loss or water over-consumption. Food wasted is an unnecessary waste of these elements. The reliance of our food paradigm on food waste can no longer be ignored and even less accepted. Different solutions have been implemented. While tackling the size of our waste is necessary, other solutions acknowledge the difficulty (or the time needed) to reach a waste-free system by promoting the treatment and valorisation of the waste itself. We’ll focus here on the later\n",
    "\n",
    "## 2. Food waste is massive\n",
    "\n",
    "Roughly one-third of the edible parts of food produced for human consumption, gets lost or wasted globally as per FAO report. The issue affects industrialized countries and developing countries in different ways. Production to retailing concentrates the majority of food waste volumes per capita in all regions worldwide and represents the vast majority of food waste in developing countries. But consumers represent a much larger share of food waste generated in Europe, Industrialised Asia, and North America and Oceania. The issue affects industrialized countries and developing countries alike, but originates proportionally more often at consumer level than upstream in industrialised regions.\n",
    "\n",
    "\n",
    "\n"
   ]
  },
  {
   "cell_type": "code",
   "execution_count": null,
   "id": "eaccef2e",
   "metadata": {},
   "outputs": [],
   "source": []
  },
  {
   "cell_type": "code",
   "execution_count": null,
   "id": "31e928d9",
   "metadata": {},
   "outputs": [],
   "source": []
  },
  {
   "cell_type": "code",
   "execution_count": null,
   "id": "f432d858",
   "metadata": {},
   "outputs": [],
   "source": []
  },
  {
   "cell_type": "code",
   "execution_count": null,
   "id": "10eaca31",
   "metadata": {},
   "outputs": [],
   "source": []
  },
  {
   "cell_type": "code",
   "execution_count": null,
   "id": "01caed21",
   "metadata": {},
   "outputs": [],
   "source": []
  },
  {
   "cell_type": "code",
   "execution_count": null,
   "id": "3f160207",
   "metadata": {},
   "outputs": [],
   "source": []
  },
  {
   "cell_type": "code",
   "execution_count": null,
   "id": "5716bbc0",
   "metadata": {},
   "outputs": [],
   "source": []
  }
 ],
 "metadata": {
  "kernelspec": {
   "display_name": "Python 3 (ipykernel)",
   "language": "python",
   "name": "python3"
  },
  "language_info": {
   "codemirror_mode": {
    "name": "ipython",
    "version": 3
   },
   "file_extension": ".py",
   "mimetype": "text/x-python",
   "name": "python",
   "nbconvert_exporter": "python",
   "pygments_lexer": "ipython3",
   "version": "3.7.4"
  }
 },
 "nbformat": 4,
 "nbformat_minor": 5
}
